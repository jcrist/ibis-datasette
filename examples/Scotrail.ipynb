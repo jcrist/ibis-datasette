{
 "cells": [
  {
   "cell_type": "markdown",
   "id": "37beaf2b",
   "metadata": {},
   "source": [
    "# ScotRail Analysis with Ibis\n",
    "\n",
    "This notebook uses [ibis-datasette](https://github.com/jcrist/ibis-datasette) to analyze data from the [ScotRail](https://scotrail.datasette.io/) [datasette](datasette.io/).\n",
    "\n",
    "This datasette is _super_ fun to play around with. It's composed of ~2400 different audioclips (and transcriptions) from Scottish train operator ScotRail's automated station announcements.\n",
    "\n",
    "If you haven't seen it, I encourage you to read Simon Willison's [excellent blogpost](https://simonwillison.net/2022/Aug/21/scotrail/) on putting this datasette together, and some interesting queries to try (we'll be replicating one of these below).\n",
    "\n",
    "While you can use the [datasette UI](https://scotrail.datasette.io/) directly, I wanted to use [ibis](https://ibis-project.org) and the full power of Python to explore and build some interesting things.\n",
    "\n",
    "---\n",
    "\n",
    "Like most notebooks, first we start with some imports and initialization.\n",
    "\n",
    "Here we:\n",
    "\n",
    "- Import `ibis` and its `_` helper (more on this later)\n",
    "- Enable ibis's interactive mode\n",
    "- We also tweak pandas' display options to better render wide columns. This makes the transcriptions below easier to read."
   ]
  },
  {
   "cell_type": "code",
   "execution_count": null,
   "id": "8c7b53cb",
   "metadata": {},
   "outputs": [],
   "source": [
    "import ibis\n",
    "from ibis import _\n",
    "\n",
    "ibis.options.interactive = True\n",
    "\n",
    "import pandas as pd\n",
    "pd.set_option('max_colwidth', 400)"
   ]
  },
  {
   "cell_type": "markdown",
   "id": "bf8266fa",
   "metadata": {},
   "source": [
    "Next we need to connect to the datasette. This is done by passing the full URL to `ibis.datasette.connect`:"
   ]
  },
  {
   "cell_type": "code",
   "execution_count": null,
   "id": "45919b94",
   "metadata": {},
   "outputs": [],
   "source": [
    "con = ibis.datasette.connect(\"https://scotrail.datasette.io/scotrail\")"
   ]
  },
  {
   "cell_type": "markdown",
   "id": "1d4c5ef8",
   "metadata": {},
   "source": [
    "Once connected, we can start poking around.\n",
    "\n",
    "The first thing I usually do when exploring a new datasette is examine the tables and schemas:"
   ]
  },
  {
   "cell_type": "code",
   "execution_count": null,
   "id": "b34a3d48",
   "metadata": {},
   "outputs": [],
   "source": [
    "con.list_tables()"
   ]
  },
  {
   "cell_type": "code",
   "execution_count": null,
   "id": "9cc005a3",
   "metadata": {},
   "outputs": [],
   "source": [
    "con.tables.announcements.schema()"
   ]
  },
  {
   "cell_type": "code",
   "execution_count": null,
   "id": "539332a2",
   "metadata": {},
   "outputs": [],
   "source": [
    " con.tables.announcements.head()"
   ]
  },
  {
   "cell_type": "markdown",
   "id": "3071232f",
   "metadata": {},
   "source": [
    "The main table is `announcments`, the most interesting columns of which are:\n",
    "\n",
    "- `Transcription`: a full transcription of the audio clip\n",
    "- `Category`: a category that the audio clip belongs to\n",
    "- `mp3`: a link to the audio clip, hosted on GitHub\n",
    "\n",
    "Since we're going to be accessing this table a lot below, lets save it to a shorter local variable name:"
   ]
  },
  {
   "cell_type": "code",
   "execution_count": null,
   "id": "1dc1cdeb",
   "metadata": {},
   "outputs": [],
   "source": [
    "t = con.tables.announcements"
   ]
  },
  {
   "cell_type": "markdown",
   "id": "edb2fa9e",
   "metadata": {},
   "source": [
    "To get a better sense of the scale of data we're working with, lets take a closer look at the `Category` column.\n",
    "\n",
    "I want to know how many categories there are, and how the audio clips are distributed across these categories.\n",
    "\n",
    "To do this, we can use:\n",
    "\n",
    "- `.group_by(\"Category\")` to split the data into separate groups by `Category`\n",
    "- `.count()` to then count how many rows are in each category.\n",
    "- `.sort_by(ibis.desc(\"count\"))` to then sort the rows by `count`, descending."
   ]
  },
  {
   "cell_type": "code",
   "execution_count": null,
   "id": "cb46cf07",
   "metadata": {},
   "outputs": [],
   "source": [
    "category_counts = (\n",
    "    t.group_by(\"Category\")\n",
    "     .count()\n",
    "     .sort_by(ibis.desc(\"count\"))\n",
    ")\n",
    "\n",
    "category_counts"
   ]
  },
  {
   "cell_type": "markdown",
   "id": "fe5d094e",
   "metadata": {},
   "source": [
    "Here we can see there are 23 categories, with 90% of the audio clips falling into the first 6. A few categories to highlight:\n",
    "\n",
    "- `Destination` is a ScotRail stop\n",
    "- `Reason` is a reason for a cancellation. These are fun to look through.\n",
    "- `Passenger information` is a bit of miscellaneous. (\"The train is ready to leave\" for example)\n",
    "- `Number` and `Time` are just clips of saying numbers and times\n",
    "- `Train operating company` is the name of a train operating company\n",
    "- `Apology` is the start of an apology for a service disruption (\"I am sorry to announce that the\" for example)\n",
    "\n",
    "The `Reason` category is the most fun to look through. There are all sorts of reasons a train might be cancelled, from \"Sheep on the railway\" to \"A wartime bomb near the railway\".\n",
    "\n",
    "---\n",
    "\n",
    "One reoccuring reason is theft (err, \"attempted theft\") of various things. Lets find all reasons involving \"theft\". \n",
    "\n",
    "This can be done by using `.filter()` to filter rows based on a predicate. Here we need two predicates:\n",
    "\n",
    "- `_.Category == \"Reason\"` selects all rows that have a category of \"Reason\"\n",
    "- `_.Transcription.contains(\"theft\")` selects all rows with a transcription containing the string \"theft\""
   ]
  },
  {
   "cell_type": "code",
   "execution_count": null,
   "id": "f8c5c5e0",
   "metadata": {},
   "outputs": [],
   "source": [
    "thefts = t.filter((_.Category == \"Reason\") & _.Transcription.contains(\"theft\"))\n",
    "\n",
    "thefts"
   ]
  },
  {
   "cell_type": "markdown",
   "id": "f7939faa",
   "metadata": {},
   "source": [
    "All of these rows also include a link to an `mp3` file containing that clip. To play a clip in a jupyter notebook, we can make use of `IPython.display.Audio`. For example, lets play the first clip from above:"
   ]
  },
  {
   "cell_type": "code",
   "execution_count": null,
   "id": "db197d99",
   "metadata": {},
   "outputs": [],
   "source": [
    "from IPython.display import Audio\n",
    "\n",
    "mp3_url = thefts.limit(1).execute().mp3.iloc[0]\n",
    "\n",
    "Audio(mp3_url)"
   ]
  },
  {
   "cell_type": "markdown",
   "id": "4f77f8c4",
   "metadata": {},
   "source": [
    "## Generating a Random Apology\n",
    "\n",
    "In [his blogpost](https://simonwillison.net/2022/Aug/21/scotrail/) Simon wrote up a SQL query for generating a Random apology by combining a few random rows from different categories above. It generates surprisingly coherent sentences, you can see the datasette version [here](https://scotrail.datasette.io/scotrail/random_apology).\n",
    "\n",
    "If you're interested you can click `show` at the top to see the full SQL query - it's readable, but a bit long.\n",
    "\n",
    "I wanted to reproduce the same query using `ibis`. Since `ibis` is just a Python library, you can make use of things like functions to abstract away some of the repetitiveness in the SQL query above.\n",
    "\n",
    "Here's what I came up with:"
   ]
  },
  {
   "cell_type": "code",
   "execution_count": null,
   "id": "08f9030b",
   "metadata": {},
   "outputs": [],
   "source": [
    "def random(category):\n",
    "    \"\"\"Select a random row from a given category\"\"\"\n",
    "    return (\n",
    "        t.filter(_.Category == category)\n",
    "         .sort_by(ibis.random())\n",
    "         .select(\"Transcription\", \"mp3\")\n",
    "         .limit(1)\n",
    "    )\n",
    "\n",
    "def phrase(text):\n",
    "    \"\"\"Select a row with a specific transcription\"\"\"\n",
    "    return (\n",
    "        t.filter(_.Transcription == text)\n",
    "         .select(\"Transcription\", \"mp3\")\n",
    "         .limit(1)\n",
    "    )\n",
    "\n",
    "query = ibis.union(\n",
    "    random(\"Apology\"),\n",
    "    random(\"Train operating company\"),\n",
    "    random(\"Destination\"),\n",
    "    phrase(\"has been cancelled\"),\n",
    "    phrase(\"due to\"),\n",
    "    random(\"Reason\"),\n",
    ")"
   ]
  },
  {
   "cell_type": "markdown",
   "id": "a43351da",
   "metadata": {},
   "source": [
    "Since the query selects random rows, if you run the cell below multiple times, you should see different results every time:"
   ]
  },
  {
   "cell_type": "code",
   "execution_count": null,
   "id": "b907d967",
   "metadata": {},
   "outputs": [],
   "source": [
    "query.execute()"
   ]
  },
  {
   "cell_type": "markdown",
   "id": "3f193d7f",
   "metadata": {},
   "source": [
    "If we wanted to do all computation in the backend, we could use `group_concat` ([docs](https://www.sqlite.org/lang_aggfunc.html#group_concat)) to then concatenate the Transcription rows together, returning a single string:"
   ]
  },
  {
   "cell_type": "code",
   "execution_count": null,
   "id": "4f58082b",
   "metadata": {},
   "outputs": [],
   "source": [
    "random_apology = query.Transcription.group_concat(\" \")\n",
    "\n",
    "random_apology"
   ]
  },
  {
   "cell_type": "markdown",
   "id": "470d2e2c",
   "metadata": {},
   "source": [
    "Note that the full query above is translated to SQL and executed on the `datasette` server, no computation is happening locally.\n",
    "\n",
    "If you want to see the generated SQL, you can use the `ibis.show_sql` function:"
   ]
  },
  {
   "cell_type": "code",
   "execution_count": null,
   "id": "7485b4d7",
   "metadata": {},
   "outputs": [],
   "source": [
    "ibis.show_sql(random_apology)"
   ]
  },
  {
   "cell_type": "markdown",
   "id": "c62d8676",
   "metadata": {},
   "source": [
    "However, we're only using `ibis` to push the bulk of the computation to the backend. We don't need to handle _everything_ in SQL, only enough to reduce the size of the results to something reasonable to return from the `datasette` server.\n",
    "\n",
    "We also have access to the full Python ecosystem to process results. This lets us do some things that wouldn't be possible in SQL alone, like concatenating `mp3` files :)."
   ]
  },
  {
   "cell_type": "markdown",
   "id": "82eaa616",
   "metadata": {},
   "source": [
    "## A \"Random Apology\" Button"
   ]
  },
  {
   "cell_type": "markdown",
   "id": "51bd234d",
   "metadata": {},
   "source": [
    "The [ipywidgets](https://ipywidgets.readthedocs.io) library provides support for building simple UIs in Python, with the rendering handled by the notebook. This is nice for me, as I am _not_ a web engineer - I'm a novice at best at javascript/html. However, I do know how to write Python.\n",
    "\n",
    "Below we hack together a quick UI with `ipywidgets` to make a button for generating a random apology, complete with a merged `mp3` file so you can listen to your work. You don't really need to understand this code, it has nothing to do with `ibis` or `ibis-datasette` itself.\n",
    "\n",
    "Clicking the button will pull generate a new random apology, download and merge the mp3 files, and display both the apology sentence and merged mp3."
   ]
  },
  {
   "cell_type": "code",
   "execution_count": null,
   "id": "8e405257",
   "metadata": {},
   "outputs": [],
   "source": [
    "import tempfile\n",
    "import os\n",
    "import pydub\n",
    "import httpx\n",
    "import ipywidgets\n",
    "from IPython.display import Audio, display\n",
    "\n",
    "output = ipywidgets.Output()\n",
    "button = ipywidgets.Button(description='Random Apology', icon=\"repeat\")\n",
    "UI = ipywidgets.VBox([button, output])\n",
    "\n",
    "\n",
    "def concatenate_mp3s(urls: list[str]) -> bytes:\n",
    "    with httpx.Client(follow_redirects=True) as client, tempfile.TemporaryDirectory() as tempdir:\n",
    "        output = None\n",
    "        for i, url in enumerate(urls):\n",
    "            path = os.path.join(tempdir, f\"part{i}.mp3\")\n",
    "            with open(path, \"wb\") as f:\n",
    "                resp = client.get(url)\n",
    "                resp.raise_for_status()\n",
    "                f.write(resp.content)\n",
    "            part = pydub.AudioSegment.from_mp3(path)\n",
    "            if output is None:\n",
    "                output = part\n",
    "            else:\n",
    "                output = output + part\n",
    "        out_path = os.path.join(tempdir, \"output.mp3\")\n",
    "        output.export(out_path, format=\"mp3\")\n",
    "        with open(out_path, \"rb\") as f:\n",
    "            return f.read()\n",
    "\n",
    "\n",
    "@button.on_click\n",
    "def on_click(*args):\n",
    "    output.clear_output()\n",
    "    result = query.execute()\n",
    "    msg = \" \".join(result.Transcription)\n",
    "    mp3 = concatenate_mp3s(result.mp3)\n",
    "    with output:\n",
    "        print(msg)\n",
    "        display(Audio(mp3))\n",
    "\n",
    "        \n",
    "UI"
   ]
  },
  {
   "cell_type": "markdown",
   "id": "4d833b56",
   "metadata": {},
   "source": [
    "## Review\n",
    "\n",
    "`datasette` makes it easier to publish accessible open data on the web, with a UI exposed for writing SQL queries. However, not everyone is extremely SQL literate (myself included). `ibis` and `ibis-datasette` let Python programmers access this same data resource, but through a familiar dataframe-like interface.\n",
    "\n",
    "For more information on `ibis`, see the [official documentation](https://ibis-project.org)."
   ]
  }
 ],
 "metadata": {
  "kernelspec": {
   "display_name": "Python 3 (ipykernel)",
   "language": "python",
   "name": "python3"
  },
  "language_info": {
   "codemirror_mode": {
    "name": "ipython",
    "version": 3
   },
   "file_extension": ".py",
   "mimetype": "text/x-python",
   "name": "python",
   "nbconvert_exporter": "python",
   "pygments_lexer": "ipython3",
   "version": "3.10.5"
  }
 },
 "nbformat": 4,
 "nbformat_minor": 5
}
