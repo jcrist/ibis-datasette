{
 "cells": [
  {
   "cell_type": "code",
   "execution_count": null,
   "id": "8c7b53cb",
   "metadata": {},
   "outputs": [],
   "source": [
    "import ibis\n",
    "from ibis import _\n",
    "\n",
    "ibis.options.interactive = True\n",
    "import pandas as pd\n",
    "pd.set_option('max_colwidth', 400)"
   ]
  },
  {
   "cell_type": "code",
   "execution_count": null,
   "id": "45919b94",
   "metadata": {},
   "outputs": [],
   "source": [
    "con = ibis.datasette.connect(\"https://scotrail.datasette.io/scotrail\")"
   ]
  },
  {
   "cell_type": "code",
   "execution_count": null,
   "id": "b34a3d48",
   "metadata": {},
   "outputs": [],
   "source": [
    "con.list_tables()"
   ]
  },
  {
   "cell_type": "code",
   "execution_count": null,
   "id": "82db0064",
   "metadata": {},
   "outputs": [],
   "source": [
    "t = con.tables.announcements"
   ]
  },
  {
   "cell_type": "code",
   "execution_count": null,
   "id": "45714d64",
   "metadata": {},
   "outputs": [],
   "source": [
    "t.head()"
   ]
  },
  {
   "cell_type": "code",
   "execution_count": null,
   "id": "f5a517b2",
   "metadata": {},
   "outputs": [],
   "source": [
    "t.select(\"Category\").distinct()"
   ]
  },
  {
   "cell_type": "code",
   "execution_count": null,
   "id": "272c93bb",
   "metadata": {},
   "outputs": [],
   "source": [
    "t.filter((_.Category == \"Reason\") & _.Transcription.contains(\"theft\")).select(\"Transcription\")"
   ]
  },
  {
   "cell_type": "code",
   "execution_count": null,
   "id": "08f9030b",
   "metadata": {},
   "outputs": [],
   "source": [
    "def random(category):\n",
    "    return (\n",
    "        con.tables.announcements\n",
    "        .filter(_.Category == category)\n",
    "        .sort_by(ibis.random())\n",
    "        .select(\"Transcription\", \"mp3\")\n",
    "        .limit(1)\n",
    "    )\n",
    "\n",
    "def phrase(t):\n",
    "    return (\n",
    "        con.tables.announcements\n",
    "        .filter(_.Transcription == t)\n",
    "        .select(\"Transcription\", \"mp3\")\n",
    "        .limit(1)\n",
    "    )\n",
    "\n",
    "query = ibis.union(\n",
    "    random(\"Apology\"),\n",
    "    random(\"Train operating company\"),\n",
    "    random(\"Destination\"),\n",
    "    phrase(\"has been cancelled\"),\n",
    "    phrase(\"due to\"),\n",
    "    random(\"Reason\"),\n",
    ")"
   ]
  },
  {
   "cell_type": "code",
   "execution_count": null,
   "id": "b907d967",
   "metadata": {},
   "outputs": [],
   "source": [
    "query.execute()"
   ]
  },
  {
   "cell_type": "code",
   "execution_count": null,
   "id": "4f58082b",
   "metadata": {},
   "outputs": [],
   "source": [
    "query.Transcription.group_concat(\" \")"
   ]
  },
  {
   "cell_type": "code",
   "execution_count": null,
   "id": "41b3230d",
   "metadata": {},
   "outputs": [],
   "source": [
    "import tempfile\n",
    "import os\n",
    "import pydub\n",
    "import httpx\n",
    "import ipywidgets\n",
    "from IPython.display import Audio, display\n",
    "\n",
    "output = ipywidgets.Output()\n",
    "button = ipywidgets.Button(description='Generate Apology', icon=\"repeat\")       \n",
    "UI = ipywidgets.VBox([button, output])\n",
    "\n",
    "\n",
    "def concatenate_mp3s(urls: list[str]) -> bytes:\n",
    "    with httpx.Client(follow_redirects=True) as client, tempfile.TemporaryDirectory() as tempdir:\n",
    "        output = None\n",
    "        for i, url in enumerate(urls):\n",
    "            path = os.path.join(tempdir, f\"part{i}.mp3\")\n",
    "            with open(path, \"wb\") as f:\n",
    "                resp = client.get(url)\n",
    "                resp.raise_for_status()\n",
    "                f.write(resp.content)\n",
    "            part = pydub.AudioSegment.from_mp3(path)\n",
    "            if output is None:\n",
    "                output = part\n",
    "            else:\n",
    "                output = output + part\n",
    "        out_path = os.path.join(tempdir, \"output.mp3\")\n",
    "        output.export(out_path, format=\"mp3\")\n",
    "        with open(out_path, \"rb\") as f:\n",
    "            return f.read()\n",
    "\n",
    "\n",
    "@button.on_click\n",
    "def on_click(*args):\n",
    "    output.clear_output()\n",
    "    result = query.execute()\n",
    "    msg = \" \".join(result.Transcription)\n",
    "    mp3 = concatenate_mp3s(result.mp3)\n",
    "    with output:\n",
    "        print(msg)\n",
    "        display(Audio(mp3))\n",
    "\n",
    "        \n",
    "UI"
   ]
  },
  {
   "cell_type": "code",
   "execution_count": null,
   "id": "c2fc306c",
   "metadata": {},
   "outputs": [],
   "source": []
  }
 ],
 "metadata": {
  "kernelspec": {
   "display_name": "Python 3 (ipykernel)",
   "language": "python",
   "name": "python3"
  },
  "language_info": {
   "codemirror_mode": {
    "name": "ipython",
    "version": 3
   },
   "file_extension": ".py",
   "mimetype": "text/x-python",
   "name": "python",
   "nbconvert_exporter": "python",
   "pygments_lexer": "ipython3",
   "version": "3.10.5"
  }
 },
 "nbformat": 4,
 "nbformat_minor": 5
}
